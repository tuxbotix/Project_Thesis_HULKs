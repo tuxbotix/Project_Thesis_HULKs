{
 "cells": [
  {
   "cell_type": "code",
   "execution_count": 112,
   "metadata": {},
   "outputs": [
    {
     "data": {
      "image/png": "[encoded data removed]",
      "text/plain": [
       "<matplotlib.figure.Figure at 0x7f9a713ce2b0>"
      ]
     },
     "metadata": {
      "needs_background": "light"
     },
     "output_type": "display_data"
    }
   ],
   "source": [
    "import matplotlib.pyplot as plt\n",
    "import numpy as np\n",
    "\n",
    "origRes = np.loadtxt(\"origRes.csv\", delimiter=',')\n",
    "calibRes = np.loadtxt(\"calibRes.csv\", delimiter=',')\n",
    "\n",
    "fig, axes = plt.subplots(nrows=1, ncols=2)\n",
    "\n",
    "\n",
    "# axes[0].set_title('Left Leg before calib')\n",
    "# axes[0, 0].hist2d(origRes[:,0],origRes[:,1], bins=50)\n",
    "axes[0].hist(origRes[:,0],100, density=True, facecolor='g', alpha=0.5)\n",
    "axes[0].hist(origRes[:,1],100, density=True, facecolor='b', alpha=0.5)\n",
    "# axes[0, 0].axis([-30, 30, 0, 0.5])\n",
    "axes[0].axis([-0.5, 0.5, -0.5, pow(2,50)])\n",
    "\n",
    "# axes[1, 0].set_title('Left Leg after calib')\n",
    "# # axes[1, 0].hist2d(calibRes[:,0],calibRes[:,1], bins=50)\n",
    "# axes[1, 0].hist(calibRes[:,0],100, density=True, facecolor='g', alpha=0.5)\n",
    "# axes[1, 0].hist(calibRes[:,1],100, density=True, facecolor='b', alpha=0.5)\n",
    "# # axes[1, 0].axis([-0.5, 0.5, 0, 10], 'equal')\n",
    "# axes[1, 0].axis([-0.8, 0.8, 0, 15])\n",
    "\n",
    "# axes[1, 0].set_title('Left Leg before calib')\n",
    "# axes[0, 1].scatter(origRes[:, 0], origRes[:, 1], 1, marker=\"+\")\n",
    "# axes[0, 1].axis([-26, 26, -26, 26], 'equal')\n",
    "\n",
    "# axes[1, 0].set_title('Left Leg after calib')\n",
    "# axes[1, 1].scatter(calibRes[:, 0], calibRes[:, 1], 1, marker=\"+\")\n",
    "# axes[1, 1].axis([-0.5, 0.5, -0.5, 0.5], 'equal')\n",
    "# n, bins, patches = plt.hist(val[:,1], 50, density=True, facecolor='r', alpha=0.75)\n",
    "#val.size()\n",
    "#plt.plot(val)\n",
    "plt.show()"
   ]
  },
  {
   "cell_type": "code",
   "execution_count": null,
   "metadata": {},
   "outputs": [],
   "source": []
  },
  {
   "cell_type": "code",
   "execution_count": null,
   "metadata": {},
   "outputs": [],
   "source": []
  }
 ],
 "metadata": {
  "kernelspec": {
   "display_name": "Python 3",
   "language": "python",
   "name": "python3"
  },
  "language_info": {
   "codemirror_mode": {
    "name": "ipython",
    "version": 3
   },
   "file_extension": ".py",
   "mimetype": "text/x-python",
   "name": "python",
   "nbconvert_exporter": "python",
   "pygments_lexer": "ipython3",
   "version": "3.5.2"
  }
 },
 "nbformat": 4,
 "nbformat_minor": 2
}
